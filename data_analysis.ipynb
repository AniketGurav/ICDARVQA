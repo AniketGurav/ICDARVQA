{
 "cells": [
  {
   "cell_type": "code",
   "execution_count": 13,
   "metadata": {},
   "outputs": [
    {
     "name": "stdout",
     "output_type": "stream",
     "text": [
      "/Users/jolly/Downloads/sh\n"
     ]
    }
   ],
   "source": [
    "import json\n",
    "import numpy as np\n",
    "%cd /Users/jolly/Downloads/sh/\n"
   ]
  },
  {
   "cell_type": "code",
   "execution_count": 9,
   "metadata": {},
   "outputs": [],
   "source": [
    "json_file = json.load(open('train_task_1.json','r'))\n",
    "data = json_file['data']"
   ]
  },
  {
   "cell_type": "code",
   "execution_count": 40,
   "metadata": {},
   "outputs": [
    {
     "name": "stdout",
     "output_type": "stream",
     "text": [
      "{0, 1, 2, 3, 4, 5, 6, 7, 8, 9, 10, 11, 12, 13, 17}\n"
     ]
    }
   ],
   "source": [
    "c = [] \n",
    "for idx, item in enumerate(data):\n",
    "    ans = [i.lower() for i in item['answers']]\n",
    "    ans_len = []\n",
    "    for a in ans:\n",
    "        ans_len.append(len(a.split()))\n",
    "    c.append(min(ans_len))\n",
    "\n",
    "print(set(c))"
   ]
  },
  {
   "cell_type": "code",
   "execution_count": 43,
   "metadata": {},
   "outputs": [],
   "source": [
    "c = np.array(c)\n",
    "d = np.arange(len(c))\n",
    "e = d[c==5]"
   ]
  },
  {
   "cell_type": "code",
   "execution_count": 38,
   "metadata": {},
   "outputs": [
    {
     "data": {
      "text/plain": [
       "98.51999999999998"
      ]
     },
     "execution_count": 38,
     "metadata": {},
     "output_type": "execute_result"
    }
   ],
   "source": [
    "np.sum([71.33, 18.43, 6.47, 2.22, 0.07])"
   ]
  },
  {
   "cell_type": "code",
   "execution_count": 29,
   "metadata": {},
   "outputs": [
    {
     "data": {
      "text/plain": [
       "26308"
      ]
     },
     "execution_count": 29,
     "metadata": {},
     "output_type": "execute_result"
    }
   ],
   "source": [
    "len(c)"
   ]
  },
  {
   "cell_type": "code",
   "execution_count": 45,
   "metadata": {},
   "outputs": [
    {
     "data": {
      "text/plain": [
       "{'set_name': 'train',\n",
       " 'file_name': '2332839.jpg',\n",
       " 'question': 'What is the company name on the advertisement?',\n",
       " 'image_width': 500,\n",
       " 'answers': ['Mike Hynan Hynan Coach Services'],\n",
       " 'dataset': 'VisualGenome/1',\n",
       " 'question_tokens': ['What',\n",
       "  'is',\n",
       "  'the',\n",
       "  'company',\n",
       "  'name',\n",
       "  'on',\n",
       "  'the',\n",
       "  'advertisement',\n",
       "  '?'],\n",
       " 'image_height': 336,\n",
       " 'distractors': ['king',\n",
       "  'party',\n",
       "  'great',\n",
       "  'laflamme',\n",
       "  'lie',\n",
       "  'john',\n",
       "  'official',\n",
       "  'north',\n",
       "  'often',\n",
       "  'grand',\n",
       "  'several',\n",
       "  'around',\n",
       "  'still',\n",
       "  'mike',\n",
       "  'form',\n",
       "  'university',\n",
       "  'boland',\n",
       "  'image',\n",
       "  'even',\n",
       "  'nan',\n",
       "  'now',\n",
       "  'air',\n",
       "  'back',\n",
       "  'ralina',\n",
       "  'best',\n",
       "  '0',\n",
       "  'order',\n",
       "  'spessot',\n",
       "  'mora',\n",
       "  'service',\n",
       "  'june',\n",
       "  'company',\n",
       "  'death',\n",
       "  'major',\n",
       "  'international',\n",
       "  'car',\n",
       "  'point',\n",
       "  'left',\n",
       "  'hunan',\n",
       "  'like',\n",
       "  'dale',\n",
       "  'last',\n",
       "  'house',\n",
       "  'series',\n",
       "  'record',\n",
       "  'group',\n",
       "  'high',\n",
       "  'dunning',\n",
       "  'will',\n",
       "  'show',\n",
       "  'found',\n",
       "  'although',\n",
       "  'released',\n",
       "  'school',\n",
       "  'arabella',\n",
       "  'south',\n",
       "  'right',\n",
       "  'national',\n",
       "  '2',\n",
       "  'member',\n",
       "  'place',\n",
       "  'mackenzie',\n",
       "  'battle',\n",
       "  'military',\n",
       "  'large',\n",
       "  'services',\n",
       "  'much',\n",
       "  'general',\n",
       "  'power',\n",
       "  'march',\n",
       "  'took',\n",
       "  'following',\n",
       "  'season',\n",
       "  'army',\n",
       "  'family',\n",
       "  'film',\n",
       "  'another',\n",
       "  'germany',\n",
       "  'four',\n",
       "  'began',\n",
       "  'line',\n",
       "  'coach',\n",
       "  'courchesne',\n",
       "  'truelove',\n",
       "  '1',\n",
       "  'kauffeldt',\n",
       "  'eagles',\n",
       "  'kara-lynn',\n",
       "  'small',\n",
       "  'based',\n",
       "  'race',\n",
       "  'long',\n",
       "  'life',\n",
       "  'island',\n",
       "  'morales',\n",
       "  'hynan',\n",
       "  'end',\n",
       "  'paulette',\n",
       "  'single',\n",
       "  'french'],\n",
       " 'file_path': 'VisualGenome/1/2332839.jpg',\n",
       " 'question_id': 199}"
      ]
     },
     "execution_count": 45,
     "metadata": {},
     "output_type": "execute_result"
    }
   ],
   "source": [
    "b[e[1]]"
   ]
  },
  {
   "cell_type": "code",
   "execution_count": 47,
   "metadata": {},
   "outputs": [
    {
     "name": "stdout",
     "output_type": "stream",
     "text": [
      "set()\n"
     ]
    }
   ],
   "source": [
    "c = [] \n",
    "for idx, item in enumerate(data):\n",
    "    ans = len(set([i for i in item['distractors']]))\n",
    "    if ans != 100:\n",
    "        c.append(idx)\n",
    "\n",
    "print(set(c))"
   ]
  },
  {
   "cell_type": "code",
   "execution_count": null,
   "metadata": {},
   "outputs": [],
   "source": []
  }
 ],
 "metadata": {
  "kernelspec": {
   "display_name": "Python 3",
   "language": "python",
   "name": "python3"
  },
  "language_info": {
   "codemirror_mode": {
    "name": "ipython",
    "version": 3
   },
   "file_extension": ".py",
   "mimetype": "text/x-python",
   "name": "python",
   "nbconvert_exporter": "python",
   "pygments_lexer": "ipython3",
   "version": "3.7.1"
  }
 },
 "nbformat": 4,
 "nbformat_minor": 2
}
